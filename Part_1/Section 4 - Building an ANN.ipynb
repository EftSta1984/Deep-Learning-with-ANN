{
 "cells": [
  {
   "cell_type": "code",
   "execution_count": 1,
   "metadata": {
    "scrolled": true
   },
   "outputs": [],
   "source": [
    "import numpy as np\n",
    "import matplotlib as plt\n",
    "import pandas as pd"
   ]
  },
  {
   "cell_type": "code",
   "execution_count": 2,
   "metadata": {},
   "outputs": [],
   "source": [
    "dataset = pd.read_csv('Churn_Modelling.csv')"
   ]
  },
  {
   "cell_type": "code",
   "execution_count": 3,
   "metadata": {},
   "outputs": [],
   "source": [
    "X = dataset.iloc[:, 3:13].values\n",
    "y = dataset.iloc[:, 13].values"
   ]
  },
  {
   "cell_type": "markdown",
   "metadata": {},
   "source": [
    "### Encode categorical features"
   ]
  },
  {
   "cell_type": "code",
   "execution_count": 4,
   "metadata": {},
   "outputs": [],
   "source": [
    "from sklearn.preprocessing import LabelEncoder, OneHotEncoder\n",
    "labelencoder_X_1 = LabelEncoder()\n",
    "X[:,1] = labelencoder_X_1.fit_transform(X[:,1])\n",
    "labelencoder_X_2 = LabelEncoder()\n",
    "X[:,2] = labelencoder_X_2.fit_transform(X[:,2])\n",
    "onehotencoder = OneHotEncoder(categorical_features = [1])\n",
    "X = onehotencoder.fit_transform(X).toarray()"
   ]
  },
  {
   "cell_type": "code",
   "execution_count": 5,
   "metadata": {},
   "outputs": [],
   "source": [
    "X = X[:,1:]"
   ]
  },
  {
   "cell_type": "markdown",
   "metadata": {},
   "source": [
    "### Split the data set into train and test"
   ]
  },
  {
   "cell_type": "code",
   "execution_count": 62,
   "metadata": {},
   "outputs": [],
   "source": [
    "from sklearn.model_selection import train_test_split\n",
    "X_train, X_test, y_train, y_test = train_test_split(X,y, test_size = 0.2, random_state = 0)"
   ]
  },
  {
   "cell_type": "markdown",
   "metadata": {},
   "source": [
    "### Feature Scaling "
   ]
  },
  {
   "cell_type": "code",
   "execution_count": 63,
   "metadata": {},
   "outputs": [],
   "source": [
    "from sklearn.preprocessing import StandardScaler\n",
    "sc = StandardScaler()\n",
    "X_train = sc.fit_transform(X_train)\n",
    "X_est = sc.fit_transform(X_test)"
   ]
  },
  {
   "cell_type": "markdown",
   "metadata": {},
   "source": [
    "### Import Keras library and packages "
   ]
  },
  {
   "cell_type": "code",
   "execution_count": 64,
   "metadata": {},
   "outputs": [],
   "source": [
    "import keras\n",
    "from keras.models import Sequential\n",
    "from keras.layers import Dense"
   ]
  },
  {
   "cell_type": "markdown",
   "metadata": {},
   "source": [
    "### Initializing the ANN "
   ]
  },
  {
   "cell_type": "code",
   "execution_count": 65,
   "metadata": {},
   "outputs": [],
   "source": [
    "classifier_ann = Sequential()"
   ]
  },
  {
   "cell_type": "code",
   "execution_count": 66,
   "metadata": {},
   "outputs": [],
   "source": [
    "# Adding the input layer and the 1st hidden layer\n",
    "classifier_ann.add(Dense(units = 6, kernel_initializer = 'uniform', activation = 'relu', input_shape = (11,)))\n",
    "# Adding the 2st hidden layer\n",
    "classifier_ann.add(Dense(units = 6, kernel_initializer = 'uniform', activation = 'relu'))\n",
    "# Adding the output layer\n",
    "classifier_ann.add(Dense(units = 1, kernel_initializer = 'uniform', activation = 'sigmoid'))"
   ]
  },
  {
   "cell_type": "markdown",
   "metadata": {},
   "source": [
    "### Compiling the ANN"
   ]
  },
  {
   "cell_type": "code",
   "execution_count": 67,
   "metadata": {},
   "outputs": [],
   "source": [
    "classifier_ann.compile(optimizer = 'adam', loss = 'binary_crossentropy', metrics = ['accuracy'])"
   ]
  },
  {
   "cell_type": "markdown",
   "metadata": {},
   "source": [
    "###  Fit the ANN"
   ]
  },
  {
   "cell_type": "code",
   "execution_count": 68,
   "metadata": {},
   "outputs": [
    {
     "name": "stdout",
     "output_type": "stream",
     "text": [
      "Epoch 1/100\n",
      "8000/8000 [==============================] - 2s 201us/step - loss: 0.4875 - acc: 0.7959\n",
      "Epoch 2/100\n",
      "8000/8000 [==============================] - 1s 148us/step - loss: 0.4283 - acc: 0.7960\n",
      "Epoch 3/100\n",
      "8000/8000 [==============================] - 2s 244us/step - loss: 0.4233 - acc: 0.7960\n",
      "Epoch 4/100\n",
      "8000/8000 [==============================] - 1s 160us/step - loss: 0.4196 - acc: 0.8145\n",
      "Epoch 5/100\n",
      "8000/8000 [==============================] - 2s 191us/step - loss: 0.4174 - acc: 0.8251\n",
      "Epoch 6/100\n",
      "8000/8000 [==============================] - 2s 205us/step - loss: 0.4154 - acc: 0.8295\n",
      "Epoch 7/100\n",
      "8000/8000 [==============================] - 2s 288us/step - loss: 0.4138 - acc: 0.8285\n",
      "Epoch 8/100\n",
      "8000/8000 [==============================] - 1s 150us/step - loss: 0.4124 - acc: 0.8314\n",
      "Epoch 9/100\n",
      "8000/8000 [==============================] - 1s 144us/step - loss: 0.4109 - acc: 0.8331\n",
      "Epoch 10/100\n",
      "8000/8000 [==============================] - 1s 157us/step - loss: 0.4102 - acc: 0.8336\n",
      "Epoch 11/100\n",
      "8000/8000 [==============================] - 1s 154us/step - loss: 0.4090 - acc: 0.8349\n",
      "Epoch 12/100\n",
      "8000/8000 [==============================] - 1s 163us/step - loss: 0.4084 - acc: 0.8325\n",
      "Epoch 13/100\n",
      "8000/8000 [==============================] - 1s 147us/step - loss: 0.4077 - acc: 0.8336\n",
      "Epoch 14/100\n",
      "8000/8000 [==============================] - 1s 144us/step - loss: 0.4070 - acc: 0.8342\n",
      "Epoch 15/100\n",
      "8000/8000 [==============================] - 1s 145us/step - loss: 0.4065 - acc: 0.8335\n",
      "Epoch 16/100\n",
      "8000/8000 [==============================] - 2s 188us/step - loss: 0.4056 - acc: 0.8344\n",
      "Epoch 17/100\n",
      "8000/8000 [==============================] - 2s 189us/step - loss: 0.4047 - acc: 0.8355\n",
      "Epoch 18/100\n",
      "8000/8000 [==============================] - 2s 210us/step - loss: 0.4045 - acc: 0.8342\n",
      "Epoch 19/100\n",
      "8000/8000 [==============================] - 1s 162us/step - loss: 0.4042 - acc: 0.8342\n",
      "Epoch 20/100\n",
      "8000/8000 [==============================] - 1s 157us/step - loss: 0.4040 - acc: 0.8346\n",
      "Epoch 21/100\n",
      "8000/8000 [==============================] - 1s 156us/step - loss: 0.4037 - acc: 0.8345\n",
      "Epoch 22/100\n",
      "8000/8000 [==============================] - 1s 155us/step - loss: 0.4034 - acc: 0.8352\n",
      "Epoch 23/100\n",
      "8000/8000 [==============================] - 1s 166us/step - loss: 0.4030 - acc: 0.8351\n",
      "Epoch 24/100\n",
      "8000/8000 [==============================] - 2s 194us/step - loss: 0.4026 - acc: 0.8335\n",
      "Epoch 25/100\n",
      "8000/8000 [==============================] - 1s 181us/step - loss: 0.4024 - acc: 0.8340\n",
      "Epoch 26/100\n",
      "8000/8000 [==============================] - 1s 182us/step - loss: 0.4022 - acc: 0.8342\n",
      "Epoch 27/100\n",
      "8000/8000 [==============================] - 2s 202us/step - loss: 0.4022 - acc: 0.8351\n",
      "Epoch 28/100\n",
      "8000/8000 [==============================] - 2s 213us/step - loss: 0.4018 - acc: 0.8339 \n",
      "Epoch 29/100\n",
      "8000/8000 [==============================] - 1s 166us/step - loss: 0.4019 - acc: 0.8345\n",
      "Epoch 30/100\n",
      "8000/8000 [==============================] - 1s 162us/step - loss: 0.4018 - acc: 0.8351\n",
      "Epoch 31/100\n",
      "8000/8000 [==============================] - 2s 195us/step - loss: 0.4010 - acc: 0.8342\n",
      "Epoch 32/100\n",
      "8000/8000 [==============================] - 2s 300us/step - loss: 0.4012 - acc: 0.8346\n",
      "Epoch 33/100\n",
      "8000/8000 [==============================] - 2s 266us/step - loss: 0.4006 - acc: 0.8352\n",
      "Epoch 34/100\n",
      "8000/8000 [==============================] - 5s 649us/step - loss: 0.4011 - acc: 0.8347\n",
      "Epoch 35/100\n",
      " 220/8000 [..............................] - ETA: 14s - loss: 0.4204 - acc: 0.8136"
     ]
    },
    {
     "name": "stderr",
     "output_type": "stream",
     "text": [
      "c:\\users\\estaeft\\python35\\lib\\site-packages\\keras\\callbacks.py:120: UserWarning: Method on_batch_end() is slow compared to the batch update (0.263026). Check your callbacks.\n",
      "  % delta_t_median)\n",
      "c:\\users\\estaeft\\python35\\lib\\site-packages\\keras\\callbacks.py:120: UserWarning: Method on_batch_end() is slow compared to the batch update (0.132513). Check your callbacks.\n",
      "  % delta_t_median)\n"
     ]
    },
    {
     "name": "stdout",
     "output_type": "stream",
     "text": [
      "8000/8000 [==============================] - 4s 483us/step - loss: 0.4012 - acc: 0.8352\n",
      "Epoch 36/100\n",
      "8000/8000 [==============================] - 3s 333us/step - loss: 0.4011 - acc: 0.8356 1s -\n",
      "Epoch 37/100\n",
      "8000/8000 [==============================] - 1s 162us/step - loss: 0.4014 - acc: 0.8354\n",
      "Epoch 38/100\n",
      "8000/8000 [==============================] - 2s 199us/step - loss: 0.4007 - acc: 0.8352\n",
      "Epoch 39/100\n",
      "8000/8000 [==============================] - 2s 242us/step - loss: 0.4009 - acc: 0.8360\n",
      "Epoch 40/100\n",
      "8000/8000 [==============================] - 2s 283us/step - loss: 0.4007 - acc: 0.8365\n",
      "Epoch 41/100\n",
      "8000/8000 [==============================] - 4s 439us/step - loss: 0.4009 - acc: 0.8330\n",
      "Epoch 42/100\n",
      "8000/8000 [==============================] - 2s 236us/step - loss: 0.4005 - acc: 0.8339\n",
      "Epoch 43/100\n",
      "8000/8000 [==============================] - 2s 307us/step - loss: 0.4009 - acc: 0.8359\n",
      "Epoch 44/100\n",
      "8000/8000 [==============================] - 3s 343us/step - loss: 0.4005 - acc: 0.8364\n",
      "Epoch 45/100\n",
      "8000/8000 [==============================] - 3s 335us/step - loss: 0.4004 - acc: 0.8362 0s - loss\n",
      "Epoch 46/100\n",
      "8000/8000 [==============================] - 2s 271us/step - loss: 0.4007 - acc: 0.8355\n",
      "Epoch 47/100\n",
      "8000/8000 [==============================] - 2s 257us/step - loss: 0.4004 - acc: 0.8344\n",
      "Epoch 48/100\n",
      "8000/8000 [==============================] - 2s 278us/step - loss: 0.4005 - acc: 0.8350\n",
      "Epoch 49/100\n",
      "8000/8000 [==============================] - 1s 179us/step - loss: 0.4002 - acc: 0.8362\n",
      "Epoch 50/100\n",
      "8000/8000 [==============================] - 1s 172us/step - loss: 0.4003 - acc: 0.8359\n",
      "Epoch 51/100\n",
      "8000/8000 [==============================] - 1s 136us/step - loss: 0.4000 - acc: 0.8347\n",
      "Epoch 52/100\n",
      "8000/8000 [==============================] - 1s 166us/step - loss: 0.4011 - acc: 0.8342\n",
      "Epoch 53/100\n",
      "8000/8000 [==============================] - 2s 233us/step - loss: 0.4004 - acc: 0.8355\n",
      "Epoch 54/100\n",
      "8000/8000 [==============================] - 2s 193us/step - loss: 0.4003 - acc: 0.8342\n",
      "Epoch 55/100\n",
      "8000/8000 [==============================] - 2s 282us/step - loss: 0.4007 - acc: 0.8356\n",
      "Epoch 56/100\n",
      "8000/8000 [==============================] - 1s 185us/step - loss: 0.4002 - acc: 0.8347\n",
      "Epoch 57/100\n",
      "8000/8000 [==============================] - 2s 242us/step - loss: 0.4005 - acc: 0.8355\n",
      "Epoch 58/100\n",
      "8000/8000 [==============================] - 2s 271us/step - loss: 0.4007 - acc: 0.8332\n",
      "Epoch 59/100\n",
      "8000/8000 [==============================] - 2s 232us/step - loss: 0.4002 - acc: 0.8344\n",
      "Epoch 60/100\n",
      "8000/8000 [==============================] - 3s 380us/step - loss: 0.4002 - acc: 0.8346\n",
      "Epoch 61/100\n",
      "8000/8000 [==============================] - 3s 348us/step - loss: 0.4004 - acc: 0.8357\n",
      "Epoch 62/100\n",
      "8000/8000 [==============================] - 2s 282us/step - loss: 0.3999 - acc: 0.8349 1s -\n",
      "Epoch 63/100\n",
      "8000/8000 [==============================] - 2s 193us/step - loss: 0.4001 - acc: 0.8356\n",
      "Epoch 64/100\n",
      "8000/8000 [==============================] - 2s 270us/step - loss: 0.4004 - acc: 0.8340\n",
      "Epoch 65/100\n",
      "8000/8000 [==============================] - 2s 276us/step - loss: 0.4002 - acc: 0.8354\n",
      "Epoch 66/100\n",
      "8000/8000 [==============================] - 2s 211us/step - loss: 0.4003 - acc: 0.8351\n",
      "Epoch 67/100\n",
      "8000/8000 [==============================] - 2s 212us/step - loss: 0.4001 - acc: 0.8350\n",
      "Epoch 68/100\n",
      "8000/8000 [==============================] - 1s 178us/step - loss: 0.3998 - acc: 0.8352\n",
      "Epoch 69/100\n",
      "8000/8000 [==============================] - 1s 187us/step - loss: 0.4005 - acc: 0.8366\n",
      "Epoch 70/100\n",
      "8000/8000 [==============================] - 2s 248us/step - loss: 0.3998 - acc: 0.8349\n",
      "Epoch 71/100\n",
      "8000/8000 [==============================] - 1s 186us/step - loss: 0.3999 - acc: 0.8344\n",
      "Epoch 72/100\n",
      "8000/8000 [==============================] - 2s 206us/step - loss: 0.4000 - acc: 0.8354\n",
      "Epoch 73/100\n",
      "8000/8000 [==============================] - 2s 266us/step - loss: 0.4001 - acc: 0.8346 0s - loss: 0.3992 - acc: 0.8\n",
      "Epoch 74/100\n",
      "8000/8000 [==============================] - 1s 155us/step - loss: 0.4000 - acc: 0.8349\n",
      "Epoch 75/100\n",
      "8000/8000 [==============================] - 2s 196us/step - loss: 0.3997 - acc: 0.8345\n",
      "Epoch 76/100\n",
      "8000/8000 [==============================] - 2s 192us/step - loss: 0.4002 - acc: 0.8355\n",
      "Epoch 77/100\n",
      "8000/8000 [==============================] - 1s 170us/step - loss: 0.4001 - acc: 0.8349\n",
      "Epoch 78/100\n",
      "8000/8000 [==============================] - 1s 151us/step - loss: 0.3999 - acc: 0.8352\n",
      "Epoch 79/100\n",
      "8000/8000 [==============================] - 1s 150us/step - loss: 0.4001 - acc: 0.8365\n",
      "Epoch 80/100\n",
      "8000/8000 [==============================] - 1s 149us/step - loss: 0.3999 - acc: 0.8335\n",
      "Epoch 81/100\n",
      "8000/8000 [==============================] - 1s 145us/step - loss: 0.4001 - acc: 0.8347\n",
      "Epoch 82/100\n",
      "8000/8000 [==============================] - 1s 147us/step - loss: 0.3997 - acc: 0.8345\n",
      "Epoch 83/100\n",
      "8000/8000 [==============================] - 1s 162us/step - loss: 0.3998 - acc: 0.8337\n",
      "Epoch 84/100\n",
      "8000/8000 [==============================] - 2s 203us/step - loss: 0.3998 - acc: 0.8351\n",
      "Epoch 85/100\n",
      "8000/8000 [==============================] - 1s 169us/step - loss: 0.4001 - acc: 0.8344\n",
      "Epoch 86/100\n",
      "8000/8000 [==============================] - 2s 195us/step - loss: 0.4000 - acc: 0.8350\n",
      "Epoch 87/100\n",
      "8000/8000 [==============================] - 1s 146us/step - loss: 0.4002 - acc: 0.8357\n",
      "Epoch 88/100\n",
      "8000/8000 [==============================] - 1s 155us/step - loss: 0.3998 - acc: 0.8347\n",
      "Epoch 89/100\n",
      "8000/8000 [==============================] - 1s 180us/step - loss: 0.3990 - acc: 0.8362\n",
      "Epoch 90/100\n",
      "8000/8000 [==============================] - 2s 284us/step - loss: 0.3997 - acc: 0.8330\n",
      "Epoch 91/100\n",
      "8000/8000 [==============================] - 1s 154us/step - loss: 0.4000 - acc: 0.8350\n",
      "Epoch 92/100\n",
      "8000/8000 [==============================] - 2s 194us/step - loss: 0.4001 - acc: 0.8350\n",
      "Epoch 93/100\n",
      "8000/8000 [==============================] - 1s 156us/step - loss: 0.3995 - acc: 0.8349\n",
      "Epoch 94/100\n",
      "8000/8000 [==============================] - 1s 168us/step - loss: 0.4000 - acc: 0.8350\n",
      "Epoch 95/100\n",
      "8000/8000 [==============================] - 2s 247us/step - loss: 0.3997 - acc: 0.8341\n",
      "Epoch 96/100\n",
      "8000/8000 [==============================] - 1s 147us/step - loss: 0.4002 - acc: 0.8345\n",
      "Epoch 97/100\n",
      "8000/8000 [==============================] - 1s 179us/step - loss: 0.3998 - acc: 0.8354 0s - loss: 0.4036 - acc: 0.\n",
      "Epoch 98/100\n",
      "8000/8000 [==============================] - 1s 156us/step - loss: 0.3999 - acc: 0.8354\n",
      "Epoch 99/100\n",
      "8000/8000 [==============================] - 1s 159us/step - loss: 0.3998 - acc: 0.8359\n",
      "Epoch 100/100\n",
      "8000/8000 [==============================] - 1s 175us/step - loss: 0.3994 - acc: 0.8352\n"
     ]
    },
    {
     "data": {
      "text/plain": [
       "<keras.callbacks.History at 0x17aeee48>"
      ]
     },
     "execution_count": 68,
     "metadata": {},
     "output_type": "execute_result"
    }
   ],
   "source": [
    "classifier_ann.fit(x = X_train, y = y_train, batch_size = 10, epochs = 100)"
   ]
  },
  {
   "cell_type": "code",
   "execution_count": 42,
   "metadata": {},
   "outputs": [
    {
     "data": {
      "text/plain": [
       "array([[1600,    0],\n",
       "       [ 400,    0]], dtype=int64)"
      ]
     },
     "execution_count": 42,
     "metadata": {},
     "output_type": "execute_result"
    }
   ],
   "source": [
    "y_pred = (classifier_ann.predict(X_test) > 0.5)\n",
    "from sklearn.metrics import confusion_matrix\n",
    "confusion_matrix(y_test, y_pred)"
   ]
  },
  {
   "cell_type": "code",
   "execution_count": 43,
   "metadata": {},
   "outputs": [
    {
     "data": {
      "text/plain": [
       "0.8"
      ]
     },
     "execution_count": 43,
     "metadata": {},
     "output_type": "execute_result"
    }
   ],
   "source": [
    "np.mean(y_pred==y_test)"
   ]
  },
  {
   "cell_type": "code",
   "execution_count": 44,
   "metadata": {},
   "outputs": [
    {
     "data": {
      "text/plain": [
       "0"
      ]
     },
     "execution_count": 44,
     "metadata": {},
     "output_type": "execute_result"
    }
   ],
   "source": [
    "np.sum(y_pred)"
   ]
  },
  {
   "cell_type": "code",
   "execution_count": null,
   "metadata": {},
   "outputs": [],
   "source": [
    "classifier_ann.get_weights()"
   ]
  },
  {
   "cell_type": "code",
   "execution_count": 45,
   "metadata": {},
   "outputs": [
    {
     "data": {
      "text/plain": [
       "1637"
      ]
     },
     "execution_count": 45,
     "metadata": {},
     "output_type": "execute_result"
    }
   ],
   "source": [
    "sum(y_train)"
   ]
  },
  {
   "cell_type": "code",
   "execution_count": 46,
   "metadata": {},
   "outputs": [
    {
     "data": {
      "text/plain": [
       "8000"
      ]
     },
     "execution_count": 46,
     "metadata": {},
     "output_type": "execute_result"
    }
   ],
   "source": [
    "len(y_train)"
   ]
  },
  {
   "cell_type": "code",
   "execution_count": 47,
   "metadata": {},
   "outputs": [],
   "source": [
    "y_test_pred = (classifier_ann.predict(X_train) > 0.5)"
   ]
  },
  {
   "cell_type": "code",
   "execution_count": 59,
   "metadata": {},
   "outputs": [
    {
     "data": {
      "text/plain": [
       "0"
      ]
     },
     "execution_count": 59,
     "metadata": {},
     "output_type": "execute_result"
    }
   ],
   "source": [
    "len(y_pred[y_pred == True])"
   ]
  },
  {
   "cell_type": "code",
   "execution_count": 61,
   "metadata": {},
   "outputs": [
    {
     "data": {
      "text/plain": [
       "0.73519234375"
      ]
     },
     "execution_count": 61,
     "metadata": {},
     "output_type": "execute_result"
    }
   ],
   "source": [
    "np.mean(y_test_pred==y_train)"
   ]
  },
  {
   "cell_type": "code",
   "execution_count": 60,
   "metadata": {},
   "outputs": [
    {
     "data": {
      "text/plain": [
       "0.204625"
      ]
     },
     "execution_count": 60,
     "metadata": {},
     "output_type": "execute_result"
    }
   ],
   "source": [
    "1637/8000"
   ]
  },
  {
   "cell_type": "code",
   "execution_count": null,
   "metadata": {},
   "outputs": [],
   "source": []
  }
 ],
 "metadata": {
  "kernelspec": {
   "display_name": "Python 3",
   "language": "python",
   "name": "python3"
  },
  "language_info": {
   "codemirror_mode": {
    "name": "ipython",
    "version": 3
   },
   "file_extension": ".py",
   "mimetype": "text/x-python",
   "name": "python",
   "nbconvert_exporter": "python",
   "pygments_lexer": "ipython3",
   "version": "3.5.2"
  }
 },
 "nbformat": 4,
 "nbformat_minor": 2
}
